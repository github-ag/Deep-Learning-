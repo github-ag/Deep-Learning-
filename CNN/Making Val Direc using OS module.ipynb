{
 "cells": [
  {
   "cell_type": "markdown",
   "metadata": {},
   "source": [
    "# How to make some data for testing(validation data) with images."
   ]
  },
  {
   "cell_type": "code",
   "execution_count": 48,
   "metadata": {},
   "outputs": [],
   "source": [
    "import os,shutil"
   ]
  },
  {
   "cell_type": "code",
   "execution_count": 49,
   "metadata": {},
   "outputs": [
    {
     "name": "stdout",
     "output_type": "stream",
     "text": [
      "['Fire Pokemons', 'Grass Pokemons', 'Water Pokemons']\n"
     ]
    }
   ],
   "source": [
    "folders = os.listdir(\"Pokemons\")\n",
    "print(folders)"
   ]
  },
  {
   "cell_type": "code",
   "execution_count": 50,
   "metadata": {},
   "outputs": [],
   "source": [
    "# Creating val_images folder\n",
    "if not os.path.isdir(\"val_images\"):\n",
    "    os.mkdir(\"val_images\")\n",
    "    "
   ]
  },
  {
   "cell_type": "code",
   "execution_count": 52,
   "metadata": {},
   "outputs": [],
   "source": [
    "classes = [\"Water Pokemons\",\"Grass Pokemons\",\"Fire Pokemons\"]\n",
    "for c in classes:\n",
    "    p = os.path.join(\"val_images\",c)\n",
    "    if not os.path.isdir(p):\n",
    "        os.mkdir(p)"
   ]
  },
  {
   "cell_type": "code",
   "execution_count": 53,
   "metadata": {},
   "outputs": [
    {
     "name": "stdout",
     "output_type": "stream",
     "text": [
      "Pokemons/Fire Pokemons\\Charizard by LauraRobjohns on DeviantArt.jpg\n",
      "val_images/Fire Pokemons\\Charizard by LauraRobjohns on DeviantArt.jpg\n",
      "Pokemons/Grass Pokemons\\003_ Venusaur.jpg\n",
      "val_images/Grass Pokemons\\003_ Venusaur.jpg\n",
      "Pokemons/Grass Pokemons\\153__Bayleef.jpg\n",
      "val_images/Grass Pokemons\\153__Bayleef.jpg\n",
      "Pokemons/Water Pokemons\\009_ Blastoise.jpg\n",
      "val_images/Water Pokemons\\009_ Blastoise.jpg\n"
     ]
    }
   ],
   "source": [
    "split = 0.5\n",
    "for f in os.listdir(\"Pokemons\"):\n",
    "    path = \"Pokemons/\"+f\n",
    "    imgs = os.listdir(path)\n",
    "    split_size = int(split*len(imgs))\n",
    "    files_to_move = imgs[split_size:]\n",
    "    \n",
    "    for img in files_to_move:\n",
    "        src = os.path.join(path,img)\n",
    "        dest = os.path.join(\"val_images/\"+f,img)\n",
    "        shutil.move(src,dest)\n",
    "        print(src)\n",
    "        print(dest)\n",
    "        "
   ]
  },
  {
   "cell_type": "code",
   "execution_count": 46,
   "metadata": {},
   "outputs": [
    {
     "data": {
      "text/plain": [
       "5"
      ]
     },
     "execution_count": 46,
     "metadata": {},
     "output_type": "execute_result"
    }
   ],
   "source": [
    "int(0.9*6)"
   ]
  },
  {
   "cell_type": "code",
   "execution_count": null,
   "metadata": {},
   "outputs": [],
   "source": []
  },
  {
   "cell_type": "code",
   "execution_count": null,
   "metadata": {},
   "outputs": [],
   "source": []
  }
 ],
 "metadata": {
  "kernelspec": {
   "display_name": "Python 3",
   "language": "python",
   "name": "python3"
  },
  "language_info": {
   "codemirror_mode": {
    "name": "ipython",
    "version": 3
   },
   "file_extension": ".py",
   "mimetype": "text/x-python",
   "name": "python",
   "nbconvert_exporter": "python",
   "pygments_lexer": "ipython3",
   "version": "3.7.0"
  }
 },
 "nbformat": 4,
 "nbformat_minor": 2
}
